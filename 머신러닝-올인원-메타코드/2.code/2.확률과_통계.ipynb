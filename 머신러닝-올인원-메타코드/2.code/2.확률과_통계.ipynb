{
 "cells": [
  {
   "cell_type": "code",
   "execution_count": 1,
   "metadata": {},
   "outputs": [
    {
     "name": "stdout",
     "output_type": "stream",
     "text": [
      "numpy is already installed.\n",
      "pandas is already installed.\n",
      "matplotlib is already installed.\n",
      "seaborn is already installed.\n",
      "sklearn is already installed.\n"
     ]
    }
   ],
   "source": [
    "import importlib.util\n",
    "import subprocess\n",
    "import sys\n",
    "\n",
    "\n",
    "def install_and_import(packages):\n",
    "    for pkg in packages:\n",
    "        package = pkg\n",
    "        try:\n",
    "            importlib.util.find_spec(package)\n",
    "            print(f\"{package} is already installed.\")\n",
    "        except importError:\n",
    "            # 모듈이 설치되어 있지 않은 경우 설치 시도\n",
    "            print(f\"{package} is not installed. Installing...\")\n",
    "            subprocess.check_call([sys.executable, \"-m\", \"%pip\", \"install\", package])\n",
    "\n",
    "            # 설치 후 다시 임포트를 시도\n",
    "            importlib.import_module(package)\n",
    "            print(f\"{package} has been successfully installed.\")\n",
    "\n",
    "        # finally:\n",
    "        # globals()[package] = importlib.import_module(package)\n",
    "        except Exception as e:\n",
    "            print(f\"An error occurred while installing {package} : {str(e)}\")\n",
    "\n",
    "\n",
    "# 예시 사용법\n",
    "install_and_import([\"numpy\", \"pandas\", \"matplotlib\", \"seaborn\", \"sklearn\"])"
   ]
  },
  {
   "cell_type": "code",
   "execution_count": 7,
   "metadata": {},
   "outputs": [],
   "source": [
    "import pandas as pd\n",
    "import numpy as np\n",
    "from sklearn.model_selection import train_test_split\n",
    "from sklearn import datasets\n",
    "import koreanize_matplotlib\n",
    "import scipy.stats as stats\n",
    "import matplotlib.pyplot as plt"
   ]
  },
  {
   "cell_type": "markdown",
   "metadata": {},
   "source": [
    "### 모집단과 표본\n"
   ]
  },
  {
   "cell_type": "code",
   "execution_count": 3,
   "metadata": {},
   "outputs": [
    {
     "data": {
      "text/html": [
       "<div>\n",
       "<style scoped>\n",
       "    .dataframe tbody tr th:only-of-type {\n",
       "        vertical-align: middle;\n",
       "    }\n",
       "\n",
       "    .dataframe tbody tr th {\n",
       "        vertical-align: top;\n",
       "    }\n",
       "\n",
       "    .dataframe thead th {\n",
       "        text-align: right;\n",
       "    }\n",
       "</style>\n",
       "<table border=\"1\" class=\"dataframe\">\n",
       "  <thead>\n",
       "    <tr style=\"text-align: right;\">\n",
       "      <th></th>\n",
       "      <th>lastname</th>\n",
       "      <th>score</th>\n",
       "    </tr>\n",
       "  </thead>\n",
       "  <tbody>\n",
       "    <tr>\n",
       "      <th>0</th>\n",
       "      <td>POYPV</td>\n",
       "      <td>64.987537</td>\n",
       "    </tr>\n",
       "    <tr>\n",
       "      <th>1</th>\n",
       "      <td>CVBBS</td>\n",
       "      <td>66.653179</td>\n",
       "    </tr>\n",
       "    <tr>\n",
       "      <th>2</th>\n",
       "      <td>JDVQQ</td>\n",
       "      <td>69.724572</td>\n",
       "    </tr>\n",
       "    <tr>\n",
       "      <th>3</th>\n",
       "      <td>LGTWQ</td>\n",
       "      <td>72.260381</td>\n",
       "    </tr>\n",
       "    <tr>\n",
       "      <th>4</th>\n",
       "      <td>XWFCQ</td>\n",
       "      <td>69.580402</td>\n",
       "    </tr>\n",
       "  </tbody>\n",
       "</table>\n",
       "</div>"
      ],
      "text/plain": [
       "  lastname      score\n",
       "0    POYPV  64.987537\n",
       "1    CVBBS  66.653179\n",
       "2    JDVQQ  69.724572\n",
       "3    LGTWQ  72.260381\n",
       "4    XWFCQ  69.580402"
      ]
     },
     "execution_count": 3,
     "metadata": {},
     "output_type": "execute_result"
    }
   ],
   "source": [
    "# 확률 표본 추출, 임의의 데이터 만들기\n",
    "def rnames(n=5000):\n",
    "    return [\"\".join(np.random.choice(list(\"ABCDEFGHIJKLMNOPQRSTUVWXYZ\"), 5)) for _ in range(n)]\n",
    "\n",
    "\n",
    "data = pd.DataFrame({\"lastname\": rnames(800), \"score\": np.random.normal(68, 2.4, 800)})\n",
    "data.head()"
   ]
  },
  {
   "cell_type": "markdown",
   "metadata": {},
   "source": [
    "#### 단순 임의 추출\n"
   ]
  },
  {
   "cell_type": "code",
   "execution_count": 4,
   "metadata": {},
   "outputs": [
    {
     "data": {
      "text/html": [
       "<div>\n",
       "<style scoped>\n",
       "    .dataframe tbody tr th:only-of-type {\n",
       "        vertical-align: middle;\n",
       "    }\n",
       "\n",
       "    .dataframe tbody tr th {\n",
       "        vertical-align: top;\n",
       "    }\n",
       "\n",
       "    .dataframe thead th {\n",
       "        text-align: right;\n",
       "    }\n",
       "</style>\n",
       "<table border=\"1\" class=\"dataframe\">\n",
       "  <thead>\n",
       "    <tr style=\"text-align: right;\">\n",
       "      <th></th>\n",
       "      <th>lastname</th>\n",
       "      <th>score</th>\n",
       "    </tr>\n",
       "  </thead>\n",
       "  <tbody>\n",
       "    <tr>\n",
       "      <th>536</th>\n",
       "      <td>QKJCS</td>\n",
       "      <td>66.937602</td>\n",
       "    </tr>\n",
       "    <tr>\n",
       "      <th>699</th>\n",
       "      <td>GBZES</td>\n",
       "      <td>70.054639</td>\n",
       "    </tr>\n",
       "    <tr>\n",
       "      <th>263</th>\n",
       "      <td>HKVOQ</td>\n",
       "      <td>63.996267</td>\n",
       "    </tr>\n",
       "    <tr>\n",
       "      <th>490</th>\n",
       "      <td>JTHBD</td>\n",
       "      <td>68.677614</td>\n",
       "    </tr>\n",
       "    <tr>\n",
       "      <th>253</th>\n",
       "      <td>FQPOP</td>\n",
       "      <td>66.284694</td>\n",
       "    </tr>\n",
       "    <tr>\n",
       "      <th>593</th>\n",
       "      <td>RZRIZ</td>\n",
       "      <td>68.923752</td>\n",
       "    </tr>\n",
       "    <tr>\n",
       "      <th>590</th>\n",
       "      <td>WREWS</td>\n",
       "      <td>73.255713</td>\n",
       "    </tr>\n",
       "    <tr>\n",
       "      <th>399</th>\n",
       "      <td>WHFYN</td>\n",
       "      <td>72.029095</td>\n",
       "    </tr>\n",
       "    <tr>\n",
       "      <th>315</th>\n",
       "      <td>BZLST</td>\n",
       "      <td>71.072482</td>\n",
       "    </tr>\n",
       "    <tr>\n",
       "      <th>86</th>\n",
       "      <td>DURVG</td>\n",
       "      <td>66.656879</td>\n",
       "    </tr>\n",
       "  </tbody>\n",
       "</table>\n",
       "</div>"
      ],
      "text/plain": [
       "    lastname      score\n",
       "536    QKJCS  66.937602\n",
       "699    GBZES  70.054639\n",
       "263    HKVOQ  63.996267\n",
       "490    JTHBD  68.677614\n",
       "253    FQPOP  66.284694\n",
       "593    RZRIZ  68.923752\n",
       "590    WREWS  73.255713\n",
       "399    WHFYN  72.029095\n",
       "315    BZLST  71.072482\n",
       "86     DURVG  66.656879"
      ]
     },
     "execution_count": 4,
     "metadata": {},
     "output_type": "execute_result"
    }
   ],
   "source": [
    "# 단순 임의 추출\n",
    "n = 10\n",
    "index = np.random.choice(\n",
    "    a=data.index, size=n, replace=False  # 뽑을 집합(모집단)  # 뽑을 표본의 수\n",
    ")  # 비복원 추출(False), 복원 추출(True) 중복 허용\n",
    "data.iloc[index]"
   ]
  },
  {
   "cell_type": "code",
   "execution_count": 5,
   "metadata": {},
   "outputs": [
    {
     "data": {
      "text/html": [
       "<div>\n",
       "<style scoped>\n",
       "    .dataframe tbody tr th:only-of-type {\n",
       "        vertical-align: middle;\n",
       "    }\n",
       "\n",
       "    .dataframe tbody tr th {\n",
       "        vertical-align: top;\n",
       "    }\n",
       "\n",
       "    .dataframe thead th {\n",
       "        text-align: right;\n",
       "    }\n",
       "</style>\n",
       "<table border=\"1\" class=\"dataframe\">\n",
       "  <thead>\n",
       "    <tr style=\"text-align: right;\">\n",
       "      <th></th>\n",
       "      <th>lastname</th>\n",
       "      <th>score</th>\n",
       "    </tr>\n",
       "  </thead>\n",
       "  <tbody>\n",
       "    <tr>\n",
       "      <th>192</th>\n",
       "      <td>INJWL</td>\n",
       "      <td>67.508274</td>\n",
       "    </tr>\n",
       "    <tr>\n",
       "      <th>65</th>\n",
       "      <td>DTLRZ</td>\n",
       "      <td>67.225521</td>\n",
       "    </tr>\n",
       "    <tr>\n",
       "      <th>605</th>\n",
       "      <td>WWVCL</td>\n",
       "      <td>65.724511</td>\n",
       "    </tr>\n",
       "    <tr>\n",
       "      <th>60</th>\n",
       "      <td>EFJDC</td>\n",
       "      <td>65.884793</td>\n",
       "    </tr>\n",
       "    <tr>\n",
       "      <th>537</th>\n",
       "      <td>ZNXGC</td>\n",
       "      <td>67.719266</td>\n",
       "    </tr>\n",
       "    <tr>\n",
       "      <th>620</th>\n",
       "      <td>ZYQSA</td>\n",
       "      <td>72.107534</td>\n",
       "    </tr>\n",
       "    <tr>\n",
       "      <th>78</th>\n",
       "      <td>XRIYQ</td>\n",
       "      <td>65.679306</td>\n",
       "    </tr>\n",
       "    <tr>\n",
       "      <th>104</th>\n",
       "      <td>ARYJI</td>\n",
       "      <td>69.622502</td>\n",
       "    </tr>\n",
       "    <tr>\n",
       "      <th>40</th>\n",
       "      <td>PVKSB</td>\n",
       "      <td>65.827605</td>\n",
       "    </tr>\n",
       "    <tr>\n",
       "      <th>747</th>\n",
       "      <td>UFGJI</td>\n",
       "      <td>68.936858</td>\n",
       "    </tr>\n",
       "  </tbody>\n",
       "</table>\n",
       "</div>"
      ],
      "text/plain": [
       "    lastname      score\n",
       "192    INJWL  67.508274\n",
       "65     DTLRZ  67.225521\n",
       "605    WWVCL  65.724511\n",
       "60     EFJDC  65.884793\n",
       "537    ZNXGC  67.719266\n",
       "620    ZYQSA  72.107534\n",
       "78     XRIYQ  65.679306\n",
       "104    ARYJI  69.622502\n",
       "40     PVKSB  65.827605\n",
       "747    UFGJI  68.936858"
      ]
     },
     "execution_count": 5,
     "metadata": {},
     "output_type": "execute_result"
    }
   ],
   "source": [
    "# 만약 할때마다 같게 하고 싶다면\n",
    "np.random.seed(1234)\n",
    "index = np.random.choice(data.index, n, replace=False)\n",
    "data.iloc[index]"
   ]
  },
  {
   "cell_type": "markdown",
   "metadata": {},
   "source": [
    "#### 층화 추출\n"
   ]
  },
  {
   "cell_type": "code",
   "execution_count": 6,
   "metadata": {},
   "outputs": [
    {
     "name": "stdout",
     "output_type": "stream",
     "text": [
      "species\n",
      "Iris-setosa        50\n",
      "Iris-versicolor    50\n",
      "Iris-virginica     50\n",
      "Name: count, dtype: int64\n"
     ]
    }
   ],
   "source": [
    "data = pd.read_csv(\n",
    "    \"https://archive.ics.uci.edu/ml/machine-learning-databases/iris/iris.data\",\n",
    "    header=None,\n",
    "    names=[\n",
    "        \"sepal_length\",\n",
    "        \"sepal_width\",\n",
    "        \"petal_length\",\n",
    "        \"petal_width\",\n",
    "        \"species\",\n",
    "    ],\n",
    ")\n",
    "print(data[\"species\"].value_counts())"
   ]
  },
  {
   "cell_type": "code",
   "execution_count": 7,
   "metadata": {},
   "outputs": [],
   "source": [
    "# 위 url이 안될 경우\n",
    "# iris = datasets.load_iris()\n",
    "# iris_df = pd.DataFrame(\n",
    "#     data=np.c_[iris[\"data\"], iris[\"target\"]], columns=iris[\"feature_names\"] + [\"target\"]\n",
    "# )\n",
    "# iris_df.columns = [\n",
    "#     \"sepal_length\",\n",
    "#     \"sepal_width\",\n",
    "#     \"petal_length\",\n",
    "#     \"petal_width\",\n",
    "#     \"species\",\n",
    "# ]\n",
    "# data = iris_df\n",
    "# print(data.shape)\n",
    "# data.head()"
   ]
  },
  {
   "cell_type": "code",
   "execution_count": 8,
   "metadata": {},
   "outputs": [
    {
     "name": "stdout",
     "output_type": "stream",
     "text": [
      "(120, 5) (30, 5)\n",
      "train :  species\n",
      "Iris-virginica     40\n",
      "Iris-versicolor    40\n",
      "Iris-setosa        40\n",
      "Name: count, dtype: int64\n",
      "test :  species\n",
      "Iris-virginica     10\n",
      "Iris-setosa        10\n",
      "Iris-versicolor    10\n",
      "Name: count, dtype: int64\n"
     ]
    }
   ],
   "source": [
    "# 데이터 분할\n",
    "train, test = train_test_split(\n",
    "    data,\n",
    "    test_size=0.2,\n",
    "    stratify=data[\"species\"],\n",
    "    random_state=1234,  # 층의 컬럼,\n",
    ")  # np.random.seed()와 동일\n",
    "\n",
    "print(train.shape, test.shape)\n",
    "print(\"train : \", train[\"species\"].value_counts())\n",
    "print(\"test : \", test[\"species\"].value_counts())"
   ]
  },
  {
   "cell_type": "code",
   "execution_count": 9,
   "metadata": {},
   "outputs": [],
   "source": [
    "# train:test = 0.8:0.2\n",
    "# train안에서, species의 비율 = virginica : versicolor : setosa = 1 : 1 : 1\n",
    "# test안에서, species의 비율 = virginica : versicolor : setosa = 1 : 1 : 1\n",
    "# 이 비율은 원래 데이터 data['species'] 컬럼의 원래 비율에서 왔음"
   ]
  },
  {
   "cell_type": "markdown",
   "metadata": {},
   "source": [
    "#### 계통 추출\n"
   ]
  },
  {
   "cell_type": "code",
   "execution_count": 10,
   "metadata": {},
   "outputs": [
    {
     "name": "stdout",
     "output_type": "stream",
     "text": [
      "     sepal_length  sepal_width  petal_length  petal_width          species\n",
      "10            5.4          3.7           1.5          0.2      Iris-setosa\n",
      "18            5.7          3.8           1.7          0.3      Iris-setosa\n",
      "26            5.0          3.4           1.6          0.4      Iris-setosa\n",
      "34            4.9          3.1           1.5          0.1      Iris-setosa\n",
      "42            4.4          3.2           1.3          0.2      Iris-setosa\n",
      "50            7.0          3.2           4.7          1.4  Iris-versicolor\n",
      "58            6.6          2.9           4.6          1.3  Iris-versicolor\n",
      "66            5.6          3.0           4.5          1.5  Iris-versicolor\n",
      "74            6.4          2.9           4.3          1.3  Iris-versicolor\n",
      "82            5.8          2.7           3.9          1.2  Iris-versicolor\n",
      "90            5.5          2.6           4.4          1.2  Iris-versicolor\n",
      "98            5.1          2.5           3.0          1.1  Iris-versicolor\n",
      "106           4.9          2.5           4.5          1.7   Iris-virginica\n",
      "114           5.8          2.8           5.1          2.4   Iris-virginica\n",
      "122           7.7          2.8           6.7          2.0   Iris-virginica\n",
      "130           7.4          2.8           6.1          1.9   Iris-virginica\n",
      "138           6.0          3.0           4.8          1.8   Iris-virginica\n",
      "146           6.3          2.5           5.0          1.9   Iris-virginica\n"
     ]
    }
   ],
   "source": [
    "# 모집단으로부터 첫 번째 추출단위를 임의추출(initial_num)하고,\n",
    "# 두 번째 추출단위부터는 일정한 간격(k)으로 표본 추출\n",
    "def smplg_sstm(population, initial_num, k):\n",
    "    sample = []\n",
    "    i = 0\n",
    "    while initial_num + i * k < len(population):\n",
    "        sample.append(population[initial_num + i * k])\n",
    "        i += 1\n",
    "    return sample\n",
    "\n",
    "\n",
    "print(data.iloc[smplg_sstm(data.index, initial_num=10, k=8)])"
   ]
  },
  {
   "cell_type": "code",
   "execution_count": 11,
   "metadata": {},
   "outputs": [
    {
     "name": "stdout",
     "output_type": "stream",
     "text": [
      "     sepal_length  sepal_width  petal_length  petal_width          species\n",
      "10            5.4          3.7           1.5          0.2      Iris-setosa\n",
      "25            5.0          3.0           1.6          0.2      Iris-setosa\n",
      "40            5.0          3.5           1.3          0.3      Iris-setosa\n",
      "55            5.7          2.8           4.5          1.3  Iris-versicolor\n",
      "70            5.9          3.2           4.8          1.8  Iris-versicolor\n",
      "85            6.0          3.4           4.5          1.6  Iris-versicolor\n",
      "100           6.3          3.3           6.0          2.5   Iris-virginica\n",
      "115           6.4          3.2           5.3          2.3   Iris-virginica\n",
      "130           7.4          2.8           6.1          1.9   Iris-virginica\n",
      "145           6.7          3.0           5.2          2.3   Iris-virginica\n"
     ]
    }
   ],
   "source": [
    "# N개의 데이터에서 등간격으로 n개 뽑기\n",
    "def getsys(N, n):\n",
    "    k = np.ceil(N / n).astype(int)\n",
    "    r = np.random.randint(0, k)\n",
    "    out = np.arange(r, N, k)[:n]\n",
    "    return out\n",
    "\n",
    "\n",
    "print(data.iloc[getsys(len(data), 10)])\n",
    "# 150 / 10 = 15의 간격"
   ]
  },
  {
   "cell_type": "markdown",
   "metadata": {},
   "source": [
    "### 확률과 확률 분포\n"
   ]
  },
  {
   "cell_type": "code",
   "execution_count": 12,
   "metadata": {},
   "outputs": [],
   "source": [
    "# %pip install koreanize-matplotlib : 한글 깨짐 해결\n",
    "# %pip install setuptools : 필요한 라이브러리 설치\n",
    "import koreanize_matplotlib"
   ]
  },
  {
   "cell_type": "code",
   "execution_count": 13,
   "metadata": {},
   "outputs": [
    {
     "name": "stdout",
     "output_type": "stream",
     "text": [
      "numpy is already installed.\n",
      "pandas is already installed.\n",
      "matplotlib is already installed.\n",
      "seaborn is already installed.\n",
      "scipy is already installed.\n"
     ]
    }
   ],
   "source": [
    "install_and_import([\"numpy\", \"pandas\", \"matplotlib\", \"seaborn\", \"scipy\"])"
   ]
  },
  {
   "cell_type": "code",
   "execution_count": 14,
   "metadata": {},
   "outputs": [
    {
     "data": {
      "image/png": "[encoded data removed]",
      "text/plain": [
       "<Figure size 640x480 with 1 Axes>"
      ]
     },
     "metadata": {},
     "output_type": "display_data"
    }
   ],
   "source": [
    "import matplotlib.pyplot as plt\n",
    "\n",
    "plt.plot([1, 2, 3])\n",
    "plt.title(\"한글 폰트 테스트\")\n",
    "plt.show()"
   ]
  },
  {
   "cell_type": "markdown",
   "metadata": {},
   "source": [
    "#### 통계적 확률\n"
   ]
  },
  {
   "cell_type": "code",
   "execution_count": 15,
   "metadata": {},
   "outputs": [
    {
     "data": {
      "image/png": "[encoded data removed]",
      "text/plain": [
       "<Figure size 640x480 with 1 Axes>"
      ]
     },
     "metadata": {},
     "output_type": "display_data"
    }
   ],
   "source": [
    "# 통계적 확률\n",
    "# 주사위를 n번 던졌을 때 각 눈의 빈도 계산\n",
    "\n",
    "## 주사위를 10번 던졌을 때\n",
    "n = 10\n",
    "data = np.random.choice(np.arange(1, 7), n, replace=True)\n",
    "plt.hist(data, bins=np.arange(1, 8) - 0.5, edgecolor=\"black\")\n",
    "plt.title(f\"주사위 {n}번 던지기\")\n",
    "plt.show()"
   ]
  },
  {
   "cell_type": "code",
   "execution_count": 16,
   "metadata": {},
   "outputs": [
    {
     "data": {
      "image/png": "[encoded data removed]",
      "text/plain": [
       "<Figure size 640x480 with 1 Axes>"
      ]
     },
     "metadata": {},
     "output_type": "display_data"
    }
   ],
   "source": [
    "## 주사위를 10000번 던졌을 때\n",
    "n = 10000\n",
    "data = np.random.choice(np.arange(1, 7), n, replace=True)\n",
    "plt.hist(data, bins=np.arange(1, 8) - 0.5, edgecolor=\"black\")\n",
    "plt.title(f\"주사위 {n}번 던지기\")\n",
    "plt.show()"
   ]
  },
  {
   "cell_type": "markdown",
   "metadata": {},
   "source": [
    "##### 참고\n"
   ]
  },
  {
   "cell_type": "code",
   "execution_count": 17,
   "metadata": {},
   "outputs": [
    {
     "data": {
      "image/png": "[encoded data removed]",
      "text/plain": [
       "<Figure size 640x480 with 1 Axes>"
      ]
     },
     "metadata": {},
     "output_type": "display_data"
    }
   ],
   "source": [
    "import seaborn as sns\n",
    "\n",
    "## 주사위를 10번 던졌을 때\n",
    "n = 10\n",
    "data = np.random.choice(np.arange(1, 7), n, replace=True)\n",
    "sns.histplot(data, bins=np.arange(1, 8) - 0.5, edgecolor=\"black\")\n",
    "plt.title(f\"주사위 {n}번 던지기\")\n",
    "plt.show()"
   ]
  },
  {
   "cell_type": "markdown",
   "metadata": {},
   "source": [
    "#### 정규분포를 따르는 데이터 생성하기\n"
   ]
  },
  {
   "cell_type": "code",
   "execution_count": 18,
   "metadata": {},
   "outputs": [
    {
     "data": {
      "image/png": "[encoded data removed]",
      "text/plain": [
       "<Figure size 640x480 with 1 Axes>"
      ]
     },
     "metadata": {},
     "output_type": "display_data"
    },
    {
     "name": "stdout",
     "output_type": "stream",
     "text": [
      "Mean :  9.988359490542924\n",
      "Standard Deviation :  5.02197798034724\n",
      "(10000,)\n"
     ]
    }
   ],
   "source": [
    "## 평균이 10, 표준편차가 5인 정규분포를 따르는 데이터 100개 생성\n",
    "# np.random.seed(123)\n",
    "data = np.random.normal(\n",
    "    10,  # 평균,\n",
    "    5,  # 표준편차\n",
    "    10000,  # 개수\n",
    ")\n",
    "\n",
    "plt.hist(data, bins=20, edgecolor=\"black\")\n",
    "plt.title(\"평균이 10, 표준편차가 5인 정규분포\")\n",
    "plt.show()\n",
    "\n",
    "print(\"Mean : \", np.mean(data))\n",
    "print(\"Standard Deviation : \", np.std(data))\n",
    "print(data.shape)"
   ]
  },
  {
   "cell_type": "markdown",
   "metadata": {},
   "source": [
    "#### 표준 정규 분포 이용하기\n"
   ]
  },
  {
   "cell_type": "markdown",
   "metadata": {},
   "source": [
    "- 한국 30대 남자 키의 평균은 174cm, 표준편차는 6cm이다. 이때, 남자의 키가 182이상일 확률은 얼마인가?<br>\n",
    "  (이때 30대 남자의 키는 정규분포를 따르고 있다고 가정)\n"
   ]
  },
  {
   "cell_type": "markdown",
   "metadata": {},
   "source": [
    "##### 표준화 변환 이용하기\n"
   ]
  },
  {
   "cell_type": "code",
   "execution_count": 26,
   "metadata": {},
   "outputs": [
    {
     "name": "stdout",
     "output_type": "stream",
     "text": [
      "Z-score :  1.3333333333333333\n"
     ]
    }
   ],
   "source": [
    "# z = (X - mu) / sigma\n",
    "z = (182 - 174) / 6\n",
    "print(\"Z-score : \", z)"
   ]
  },
  {
   "cell_type": "markdown",
   "metadata": {},
   "source": [
    "##### 표준정규분포 활용\n"
   ]
  },
  {
   "cell_type": "code",
   "execution_count": 27,
   "metadata": {},
   "outputs": [
    {
     "name": "stdout",
     "output_type": "stream",
     "text": [
      "P-value :  0.9087887802741321\n"
     ]
    }
   ],
   "source": [
    "# 2. 표준정규분포 활용\n",
    "import scipy.stats as stats\n",
    "\n",
    "p = stats.norm.cdf(z)\n",
    "print(\"P-value : \", p)"
   ]
  },
  {
   "cell_type": "markdown",
   "metadata": {},
   "source": [
    "##### 확률 계산\n"
   ]
  },
  {
   "cell_type": "code",
   "execution_count": 28,
   "metadata": {},
   "outputs": [
    {
     "name": "stdout",
     "output_type": "stream",
     "text": [
      "남자의 키가 182cm 이상일 확률 :  9.12%\n"
     ]
    }
   ],
   "source": [
    "percent = (1 - p) * 100\n",
    "print(f\"남자의 키가 182cm 이상일 확률 : {percent : .2f}%\")"
   ]
  },
  {
   "cell_type": "markdown",
   "metadata": {},
   "source": [
    "### 추정\n"
   ]
  },
  {
   "cell_type": "markdown",
   "metadata": {},
   "source": [
    "#### 통계적 추정\n"
   ]
  },
  {
   "cell_type": "markdown",
   "metadata": {},
   "source": [
    "##### 추정 예제\n"
   ]
  },
  {
   "cell_type": "markdown",
   "metadata": {},
   "source": [
    "- 전국 스타벅스의 전지점의 월 텀블러 평균 판매량의 신뢰구간을 추정하기 위해서 36개 지점을 표본으로 선택하여 판매량을 조사하였더니\n",
    "  다음과 같았다.\n",
    "- [29, 24, 27, 28, 24, 25, 26, 26, 28, 26, 25, 26, 27, 26, 19, 25, 26, 26, 26, 25, 25, 28, 30, 32, 31, 27, 31, 29, 25, 17, 21, 23, 23, 26, 27, 27]\n",
    "- 판매량의 분포는 정규분포를 따른다고 알려져 있다(가정)\n",
    "- 신뢰도 95%로 텀블러 판매량의 신뢰구간을 추정하여라\n"
   ]
  },
  {
   "cell_type": "code",
   "execution_count": 29,
   "metadata": {},
   "outputs": [
    {
     "data": {
      "text/plain": [
       "[29,\n",
       " 24,\n",
       " 27,\n",
       " 28,\n",
       " 24,\n",
       " 25,\n",
       " 26,\n",
       " 26,\n",
       " 28,\n",
       " 26,\n",
       " 25,\n",
       " 26,\n",
       " 27,\n",
       " 26,\n",
       " 19,\n",
       " 25,\n",
       " 26,\n",
       " 26,\n",
       " 26,\n",
       " 25,\n",
       " 25,\n",
       " 28,\n",
       " 30,\n",
       " 32,\n",
       " 31,\n",
       " 27,\n",
       " 31,\n",
       " 29,\n",
       " 25,\n",
       " 17,\n",
       " 21,\n",
       " 23,\n",
       " 23,\n",
       " 26,\n",
       " 27,\n",
       " 27]"
      ]
     },
     "execution_count": 29,
     "metadata": {},
     "output_type": "execute_result"
    }
   ],
   "source": [
    "tblr = [\n",
    "    29,\n",
    "    24,\n",
    "    27,\n",
    "    28,\n",
    "    24,\n",
    "    25,\n",
    "    26,\n",
    "    26,\n",
    "    28,\n",
    "    26,\n",
    "    25,\n",
    "    26,\n",
    "    27,\n",
    "    26,\n",
    "    19,\n",
    "    25,\n",
    "    26,\n",
    "    26,\n",
    "    26,\n",
    "    25,\n",
    "    25,\n",
    "    28,\n",
    "    30,\n",
    "    32,\n",
    "    31,\n",
    "    27,\n",
    "    31,\n",
    "    29,\n",
    "    25,\n",
    "    17,\n",
    "    21,\n",
    "    23,\n",
    "    23,\n",
    "    26,\n",
    "    27,\n",
    "    27,\n",
    "]\n",
    "tblr"
   ]
  },
  {
   "cell_type": "code",
   "execution_count": 30,
   "metadata": {},
   "outputs": [
    {
     "name": "stdout",
     "output_type": "stream",
     "text": [
      "36 0.95 26.0 3.04255531702266\n"
     ]
    }
   ],
   "source": [
    "n = len(tblr)  # 표본의 크기\n",
    "ci = 0.95  # 신뢰수준\n",
    "x_bar = np.mean(tblr)  # 표본평균\n",
    "s = np.std(tblr, ddof=1)  # 표본 표준편차(ddof=1로 표본 표준편차 계싼)\n",
    "print(n, ci, x_bar, s)"
   ]
  },
  {
   "cell_type": "markdown",
   "metadata": {},
   "source": [
    "##### 신뢰 구간 계산\n"
   ]
  },
  {
   "cell_type": "code",
   "execution_count": 31,
   "metadata": {},
   "outputs": [
    {
     "name": "stdout",
     "output_type": "stream",
     "text": [
      "신뢰구간 :  (np.float64(24.970547388128676), np.float64(27.029452611871324))\n"
     ]
    }
   ],
   "source": [
    "t_critical = stats.t.ppf((1 + ci) / 2, df=n - 1)\n",
    "margin_of_error = t_critical * (s / np.sqrt(n))\n",
    "uci = x_bar + margin_of_error\n",
    "lci = x_bar - margin_of_error\n",
    "print(\"신뢰구간 : \", (lci, uci))"
   ]
  },
  {
   "cell_type": "code",
   "execution_count": 32,
   "metadata": {},
   "outputs": [],
   "source": [
    "## 신뢰구간 추정 function\n",
    "def t_interval(data, conf_level=0.95):\n",
    "    n = len(data)\n",
    "    df = n - 1\n",
    "    x_bar = np.mean(data)\n",
    "    s = np.std(data, ddof=1) / np.sqrt(n)\n",
    "    t_critical = stats.t.ppf((1 + conf_level) / 2, df)  # t분포!\n",
    "    return (x_bar - t_critical * s, x_bar + t_critical * s)\n",
    "\n",
    "\n",
    "# 정규분포 대신 t분포를 사용하는 이유는 표본의 크기가 작거나(보통 n<30인 경우) 모집단의 분산을 모르는 경우에 사용\n",
    "# 표본 크기가 커질수록 t분포는 정규 분포에 가까워지며, 표본 크기가 충분히 큰 경우(보통 n > 30)에는 정규 분포를 사용해도 무방!"
   ]
  },
  {
   "cell_type": "code",
   "execution_count": 34,
   "metadata": {},
   "outputs": [
    {
     "name": "stdout",
     "output_type": "stream",
     "text": [
      "신뢰구간 :  (np.float64(24.970547388128676), np.float64(27.029452611871324))\n"
     ]
    }
   ],
   "source": [
    "print(\"신뢰구간 : \", t_interval(tblr, conf_level=0.95))  # same!"
   ]
  },
  {
   "cell_type": "markdown",
   "metadata": {},
   "source": [
    "#### 심화\n"
   ]
  },
  {
   "cell_type": "markdown",
   "metadata": {},
   "source": [
    "월간 텀블러 판매량이 30개 이상일 확률은?\n"
   ]
  },
  {
   "cell_type": "code",
   "execution_count": 36,
   "metadata": {},
   "outputs": [
    {
     "data": {
      "text/plain": [
       "np.float64(1.314684396244359)"
      ]
     },
     "execution_count": 36,
     "metadata": {},
     "output_type": "execute_result"
    }
   ],
   "source": [
    "# 30에 해당하는 t_value 찾기\n",
    "t_value = (30 - x_bar) / s\n",
    "t_value"
   ]
  },
  {
   "cell_type": "code",
   "execution_count": 37,
   "metadata": {},
   "outputs": [
    {
     "name": "stdout",
     "output_type": "stream",
     "text": [
      "월간 텀블러 판매량이 30개 이상일 확률 :  9.858295779459569 %\n"
     ]
    }
   ],
   "source": [
    "# 이 t_value가 가질 수 있는 확률값 계산\n",
    "p = stats.t.cdf(t_value, df=n - 1)\n",
    "print(\"월간 텀블러 판매량이 30개 이상일 확률 : \", (1 - p) * 100, \"%\")"
   ]
  },
  {
   "cell_type": "code",
   "execution_count": 39,
   "metadata": {},
   "outputs": [],
   "source": [
    "# 월간 텀블러 판매량이 27 ~ 28개 사이일 확률은?\n",
    "# 27, 28에 해당하는 t_value 찾기\n",
    "t_value_upper = (28 - x_bar) / s\n",
    "t_value_lower = (27 - x_bar) / s"
   ]
  },
  {
   "cell_type": "code",
   "execution_count": 40,
   "metadata": {},
   "outputs": [
    {
     "name": "stdout",
     "output_type": "stream",
     "text": [
      "월간 텀블러 판매량이 27~28개 사이일 확률 :  11.455100242054062 %\n"
     ]
    }
   ],
   "source": [
    "# 각각의 t_value가 가질 수 있는 확률값 계산\n",
    "p_upper = stats.t.cdf(t_value_upper, df=n - 1)\n",
    "p_lower = stats.t.cdf(t_value_lower, df=n - 1)\n",
    "\n",
    "print(\n",
    "    \"월간 텀블러 판매량이 27~28개 사이일 확률 : \",\n",
    "    (p_upper - p_lower) * 100,\n",
    "    \"%\",\n",
    ")"
   ]
  },
  {
   "cell_type": "markdown",
   "metadata": {},
   "source": [
    "##### 신뢰구간 확인 애니메이션\n",
    "\n",
    "- 신뢰수준이 95%인 신뢰구간:<br>\n",
    "  모집단 평균이 이 신뢰구간 내에 있을 확률이 95%다 라고 해석 가능<br>\n",
    "  100번의 추정 중 약 95번은 신뢰구간이 모집단 평균을 포함할 것임을 의미\n"
   ]
  },
  {
   "cell_type": "code",
   "execution_count": 42,
   "metadata": {},
   "outputs": [
    {
     "data": {
      "text/plain": [
       "(array([ 5.,  4.,  9., 18., 18., 11., 16., 13.,  3.,  3.]),\n",
       " array([-2.43192842, -1.94178515, -1.45164187, -0.9614986 , -0.47135533,\n",
       "         0.01878795,  0.50893122,  0.9990745 ,  1.48921777,  1.97936104,\n",
       "         2.46950432]),\n",
       " <BarContainer object of 10 artists>)"
      ]
     },
     "execution_count": 42,
     "metadata": {},
     "output_type": "execute_result"
    },
    {
     "data": {
      "image/png": "[encoded data removed]",
      "text/plain": [
       "<Figure size 640x480 with 1 Axes>"
      ]
     },
     "metadata": {},
     "output_type": "display_data"
    }
   ],
   "source": [
    "size = 50  # 시행별 샘플의 수\n",
    "samples = 100  # 샘플의 수(시행횟수)\n",
    "pd.DataFrame(np.random.randn(samples, size))\n",
    "\n",
    "plt.hist(pd.DataFrame(np.random.randn(samples, size))[0])"
   ]
  },
  {
   "cell_type": "code",
   "execution_count": 49,
   "metadata": {},
   "outputs": [
    {
     "data": {
      "image/png": "[encoded data removed]",
      "text/plain": [
       "<Figure size 1000x1000 with 1 Axes>"
      ]
     },
     "metadata": {},
     "output_type": "display_data"
    }
   ],
   "source": [
    "def conf_int_animation(level=0.95, size=50, samples=100):\n",
    "    fig, ax = plt.subplots(figsize=(10, 10))\n",
    "    data = np.random.randn(samples, size)  # 표준정규분포를 따르는 숫자 생성\n",
    "    means = data.mean(axis=1)\n",
    "    ci_lower, ci_upper = stats.norm.interval(level, loc=means, scale=1 / np.sqrt(size))\n",
    "\n",
    "    indices = np.random.permutation(samples)  # 랜던 순서의 인덱스 생성\n",
    "\n",
    "    for i in indices:\n",
    "        mean, low, high = means[i], ci_lower[i], ci_upper[i]\n",
    "        color = \"red\" if low > 0 or high < 0 else \"grey\"\n",
    "        ax.plot([low, high], [i, i], color=color)\n",
    "\n",
    "    ax.axvline(0, color=\"blue\", linestyle=\"--\")\n",
    "    plt.title(f\"신뢰구간 애니메이션(level={level})\")\n",
    "    plt.show()\n",
    "\n",
    "\n",
    "conf_int_animation(\n",
    "    level=0.95,  # 신뢰수준\n",
    "    size=50,  # 각 시행별 뽑히는 샘플의 개수\n",
    "    samples=100,  # 각 샘플의 수(시행횟수)\n",
    ")"
   ]
  },
  {
   "cell_type": "markdown",
   "metadata": {},
   "source": [
    "### 검정\n"
   ]
  },
  {
   "cell_type": "markdown",
   "metadata": {},
   "source": [
    "#### 가정 확인\n"
   ]
  },
  {
   "cell_type": "markdown",
   "metadata": {},
   "source": [
    "##### 정규분포 가정\n"
   ]
  },
  {
   "cell_type": "code",
   "execution_count": 9,
   "metadata": {},
   "outputs": [
    {
     "data": {
      "image/png": "[encoded data removed]",
      "text/plain": [
       "<Figure size 640x480 with 1 Axes>"
      ]
     },
     "metadata": {},
     "output_type": "display_data"
    }
   ],
   "source": [
    "# 정규분포 따르는지 확인\n",
    "data = np.array([ 34, 76, 76, 63, 73, 75, 67, 78, 81, 53, 58, 81, 77, 80, 43, 65, 76, 63, 54, 64, 85, 54, 70, 71, 71, 55, 40, 78, 76, 70, 42, 63, 61, 82, 67, 98, 59, 63, 84, 50, 67, 80, 83, 66, 86, 57, 48 ])\n",
    "# 커널 밀도 추정\n",
    "density = stats.gaussian_kde(data)\n",
    "x = np.linspace(min(data), max(data), 100)\n",
    "y = density(x)\n",
    "\n",
    "plt.figure()\n",
    "plt.plot(x, y)\n",
    "plt.title(\"Density Plot\")\n",
    "plt.xlabel(\"Data values\")\n",
    "plt.ylabel(\"Density\")\n",
    "plt.show()"
   ]
  },
  {
   "cell_type": "code",
   "execution_count": 10,
   "metadata": {},
   "outputs": [
    {
     "data": {
      "image/png": "[encoded data removed]",
      "text/plain": [
       "<Figure size 640x480 with 1 Axes>"
      ]
     },
     "metadata": {},
     "output_type": "display_data"
    }
   ],
   "source": [
    "# 히스토그램 플롯\n",
    "plt.figure()\n",
    "plt.hist(data, bins=10, edgecolor=\"black\")\n",
    "plt.title(\"Histogram\")\n",
    "plt.xlabel(\"Data values\")\n",
    "plt.ylabel(\"Frequency\")\n",
    "plt.show()"
   ]
  },
  {
   "cell_type": "code",
   "execution_count": 13,
   "metadata": {},
   "outputs": [
    {
     "name": "stdout",
     "output_type": "stream",
     "text": [
      "Shapiro-Wil test :  ShapiroResult(statistic=np.float64(0.9777001582707601), pvalue=np.float64(0.500829673580824))\n",
      "데이터는 정규분포를 따름\n"
     ]
    }
   ],
   "source": [
    "# H0 : data는 정규분포를 따른다\n",
    "# H1 : data는 정규분포를 따르지 않는다\n",
    "shapiro_test = stats.shapiro(data)\n",
    "print(\"Shapiro-Wil test : \", shapiro_test)\n",
    "\n",
    "## 해석\n",
    "# p-value가 0.05보다 크면 정규성 가정 만족!\n",
    "# p-value가 0.05보다 작으면 정규성 가정 만족 X\n",
    "if shapiro_test.pvalue > 0.05:\n",
    "    print(\"데이터는 정규분포를 따름\")\n",
    "else:\n",
    "    print(\"데이터는 정규분포를 따르지 않음\")"
   ]
  },
  {
   "cell_type": "markdown",
   "metadata": {},
   "source": [
    "##### 등분산 가정\n"
   ]
  },
  {
   "cell_type": "code",
   "execution_count": 16,
   "metadata": {},
   "outputs": [
    {
     "name": "stdout",
     "output_type": "stream",
     "text": [
      "Levene's test for equal variances :  LeveneResult(statistic=np.float64(31.623479383350933), pvalue=np.float64(9.059629833415042e-08))\n",
      "데이터는 등분산을 만족하지 않음\n"
     ]
    }
   ],
   "source": [
    "## 등분산 가정\n",
    "# H0 : 두 data는 등분산이다\n",
    "# H1 : 두 data는 등분산이 아니다\n",
    "data1 = np.random.normal(1, 0.1, 100)\n",
    "data2 = np.random.normal(1, 0.2, 50)\n",
    "var_test = stats.levene(data1, data2)\n",
    "print(\"Levene's test for equal variances : \", var_test)\n",
    "\n",
    "\n",
    "## 해석\n",
    "# p-value가 0.05보다 크면 등분산 가정 만족!\n",
    "# p-value가 0.05보다 작으면 등분산 가정 만족 X\n",
    "if var_test.pvalue > 0.05:\n",
    "    print(\"데이터는 등분산을 만족\")\n",
    "else:\n",
    "    print(\"데이터는 등분산을 만족하지 않음\")"
   ]
  },
  {
   "cell_type": "markdown",
   "metadata": {},
   "source": [
    "### 그룹 비교"
   ]
  },
  {
   "cell_type": "markdown",
   "metadata": {},
   "source": [
    "#### 두 그룹 비교\n",
    "\n",
    "![image.png](../1.data/image.png)\n"
   ]
  },
  {
   "cell_type": "markdown",
   "metadata": {},
   "source": [
    "##### 1-1. T-Test\n"
   ]
  },
  {
   "cell_type": "code",
   "execution_count": 17,
   "metadata": {},
   "outputs": [
    {
     "name": "stderr",
     "output_type": "stream",
     "text": [
      "C:\\Users\\cho03\\AppData\\Local\\Temp\\ipykernel_13528\\1725007039.py:7: MatplotlibDeprecationWarning: The 'labels' parameter of boxplot() has been renamed 'tick_labels' since Matplotlib 3.9; support for the old name will be dropped in 3.11.\n",
      "  plt.boxplot([before_study, after_study], labels=['Before', 'After'])\n"
     ]
    },
    {
     "data": {
      "image/png": "[encoded data removed]",
      "text/plain": [
       "<Figure size 640x480 with 1 Axes>"
      ]
     },
     "metadata": {},
     "output_type": "display_data"
    }
   ],
   "source": [
    "# T-Test\n",
    "# 과외 이전/이후 수학 성적 비교\n",
    "before_study = np.array([ 34, 76, 76, 63, 73, 75, 67, 78, 81, 53, 58, 81, 77, 80, 43, 65, 76, 63, 54, 64, 85, 54, 70, 71, 71, 55, 40, 78, 93, 64, 42, 63, 61, 82, 67, 98, 59, 63, 84, 50, 67, 80, 83, 66, 86, 57, 48])\n",
    "after_study = np.array([ 74, 87, 89, 98, 65, 82, 70, 70, 70, 84, 56, 76, 72, 69, 73, 61, 83, 82, 89, 75, 48, 72, 80, 66, 82, 71, 49, 54, 63, 65, 100,  82, 75, 62, 83, 90, 76, 87, 90, 78, 63, 59, 79, 71, 65, 77, 74])\n",
    "\n",
    "plt.figure()\n",
    "plt.boxplot([before_study, after_study], labels=[\"Before\", \"After\"])\n",
    "plt.title(\"Boxplot of Scores Before and After Tutoring\")\n",
    "plt.show()"
   ]
  },
  {
   "cell_type": "code",
   "execution_count": 19,
   "metadata": {},
   "outputs": [
    {
     "name": "stdout",
     "output_type": "stream",
     "text": [
      "Shapiro-Wil test :  ShapiroResult(statistic=np.float64(0.9853525177585915), pvalue=np.float64(0.8146527755919009))\n",
      "Shapiro-Wil test :  ShapiroResult(statistic=np.float64(0.9896698255500068), pvalue=np.float64(0.9492020759782446))\n",
      "Levene's test for equal variances :  LeveneResult(statistic=np.float64(1.742022982465631), pvalue=np.float64(0.19015750222163658))\n"
     ]
    }
   ],
   "source": [
    "# 정규성 확인\n",
    "print(\"Shapiro-Wil test : \", stats.shapiro(before_study))\n",
    "print(\"Shapiro-Wil test : \", stats.shapiro(after_study))\n",
    "# -> 둘다 정규분포를 따름\n",
    "\n",
    "# 등분산성 확인\n",
    "print(\n",
    "    \"Levene's test for equal variances : \",\n",
    "    stats.levene(before_study, after_study),\n",
    ")\n",
    "# -> 등분산임"
   ]
  },
  {
   "cell_type": "markdown",
   "metadata": {},
   "source": [
    "##### 양측 검정\n"
   ]
  },
  {
   "cell_type": "code",
   "execution_count": 21,
   "metadata": {},
   "outputs": [
    {
     "name": "stdout",
     "output_type": "stream",
     "text": [
      "Paired t-test :  TtestResult(statistic=np.float64(-2.3499257719818125), pvalue=np.float64(0.023123525046420602), df=np.int64(46))\n",
      "과외 이전과 이후의 수학 성적에 유의미한 차이가 있음\n"
     ]
    }
   ],
   "source": [
    "# t-test(양측 검정)\n",
    "# a == b?\n",
    "# H0 : 과외 이전 성적 == 과외 이후 성적\n",
    "# H0 : 과외 이전 성적 != 과외 이후 성적\n",
    "t_test_result = stats.ttest_rel(a=before_study, b=after_study, alternative=\"two-sided\")  # two-sided : 양측검정, 기본값\n",
    "print(\"Paired t-test : \", t_test_result)\n",
    "\n",
    "# 해석\n",
    "# p-value값이 0.05보다 작으면 귀무가설(H0)을 기각하고 대립가설(H1)을 채택\n",
    "if t_test_result.pvalue < 0.05:\n",
    "    print(\"과외 이전과 이후의 수학 성적에 유의미한 차이가 있음\")\n",
    "else:\n",
    "    print(\"과외 이전과 이후의 수학 성적에 유의미한 차이가 없음\")"
   ]
  },
  {
   "cell_type": "markdown",
   "metadata": {},
   "source": [
    "##### 단측 검정\n"
   ]
  },
  {
   "cell_type": "markdown",
   "metadata": {},
   "source": [
    "<ul>\n",
    "  <li>a, b위치 및 alternative에 유의할 것\n",
    "  <ul>  \n",
    "    <li>alternative = 'less'<br>a의 평균이 b의 평균보다 작은지(즉, a < b)를 검정 alternative = 'less'를 사용하면 \"a가 b보다 작은가?를 묻는 것</li>\n",
    "   <li>alternative = 'greater'<br>a의 평균이 b의 평균보다 작은지(즉, a < b)를 검정 alternative = 'greater'를 사용하면 \"a가 b보다 큰가?를 묻는 것</li>\n",
    "  </ul>\n",
    "  </li>\n",
    "</ul>\n"
   ]
  },
  {
   "cell_type": "code",
   "execution_count": 22,
   "metadata": {},
   "outputs": [
    {
     "name": "stdout",
     "output_type": "stream",
     "text": [
      "One-sided t-test (less) :  TtestResult(statistic=np.float64(-2.3499257719818125), pvalue=np.float64(0.011561762523210301), df=np.int64(46))\n",
      "과외 이후 수학 성적이 유의미하게 향상되었음\n"
     ]
    }
   ],
   "source": [
    "# t-test 단측 검정 (참고)\n",
    "# 단측 검정시 위치에 유의!!\n",
    "# 귀무가설 (H0) :\n",
    "# 대립가설 (H1) : a의 평균이 b의 평균보다 작음(a < b) -> a is less than b? => a < b ?\n",
    "t_test_result_less = stats.ttest_rel(\n",
    "    a=before_study, b=after_study, alternative=\"less\"\n",
    ")  # 'less' (단측 검정, 작은 쪽) / 'greater' (단측 검정, 큰 쪽)\n",
    "\n",
    "print(\"One-sided t-test (less) : \", t_test_result_less)\n",
    "\n",
    "# 해석\n",
    "# p-value 값이 0.05보다 작으면 귀무가설(H0)을 기각하고 대립가설(H1)을 채택\n",
    "if t_test_result_less.pvalue < 0.05:\n",
    "    print(\"과외 이후 수학 성적이 유의미하게 향상되었음\")\n",
    "else:\n",
    "    print(\"과외 이후 성적이 유의미하게 향상되지 않았음\")"
   ]
  },
  {
   "cell_type": "code",
   "execution_count": 23,
   "metadata": {},
   "outputs": [
    {
     "name": "stdout",
     "output_type": "stream",
     "text": [
      "One-sided t-test (greater) :  TtestResult(statistic=np.float64(-2.3499257719818125), pvalue=np.float64(0.9884382374767897), df=np.int64(46))\n",
      "과외 이전 수학 성적이 과외 이후 수학 성적보다 더 좋지 않았음\n"
     ]
    }
   ],
   "source": [
    "# t-test 단측 검정 (참고)\n",
    "# 단측 검정시 위치에 유의!!\n",
    "# 귀무가설 (H0) :\n",
    "# 대립가설 (H1) : a의 평균이 b의 평균보다 큼(a > b) -> a is greater than b? => a > b ?\n",
    "t_test_result_less = stats.ttest_rel(\n",
    "    a=before_study, b=after_study, alternative=\"greater\"\n",
    ")  # 'less' (단측 검정, 작은 쪽) / 'greater' (단측 검정, 큰 쪽)\n",
    "\n",
    "print(\"One-sided t-test (greater) : \", t_test_result_less)\n",
    "\n",
    "# 해석\n",
    "# p-value 값이 0.05보다 작으면 귀무가설(H0)을 기각하고 대립가설(H1)을 채택\n",
    "if t_test_result_less.pvalue < 0.05:\n",
    "    print(\"과외 이전 수학 성적이 과외 이후 수학 성적보다 더 좋았음\")\n",
    "else:\n",
    "    print(\"과외 이전 수학 성적이 과외 이후 수학 성적보다 더 좋지 않았음\")"
   ]
  },
  {
   "cell_type": "markdown",
   "metadata": {},
   "source": [
    "<ul>\n",
    "  <li>두 그룹의 평균을 비교하고 싶을 때\n",
    "    <ol>\n",
    "      <li>유의미한 차이가 있는지(같은지 다른지) 양측 검정 수행 후</li>\n",
    "      <li>어느 쪽이 더 큰지 알아보는 단측 검정 수행</li>\n",
    "    </ol>\n",
    "  </li>\n",
    "</ul>\n"
   ]
  },
  {
   "cell_type": "markdown",
   "metadata": {},
   "source": [
    "##### 1-2. Mann-Whitney U test\n"
   ]
  },
  {
   "cell_type": "code",
   "execution_count": 25,
   "metadata": {},
   "outputs": [
    {
     "name": "stdout",
     "output_type": "stream",
     "text": [
      "Mann-Whitney U test :  WilcoxonResult(statistic=np.float64(353.0), pvalue=np.float64(0.024946160280194363))\n",
      "과외 이전과 이후의 수학 성적에 유의미한 차이가 있음\n"
     ]
    }
   ],
   "source": [
    "### 1-2. Mann-Whitney U test\n",
    "# 정규성 가정을 만족하지 않는 경우!\n",
    "mann_whitney_result = stats.wilcoxon(x = before_study, y = after_study, alternative = 'two-sided') # \"two-sided\", \"less\", \"greter\"\n",
    "\n",
    "print(\"Mann-Whitney U test : \", mann_whitney_result)\n",
    "\n",
    "# p-value 값이 0.05보다 작으면 귀무가설(H0)을 기각하고 대립가설(H1)을 채택\n",
    "if mann_whitney_result.pvalue < 0.05 :\n",
    "  print(\"과외 이전과 이후의 수학 성적에 유의미한 차이가 있음\")\n",
    "else:\n",
    "  print(\"과외 이전과 이후의 수학 성적에 유의미한 차이가 없음\")"
   ]
  },
  {
   "cell_type": "markdown",
   "metadata": {},
   "source": [
    "##### 1-3. Welch's t-test\n"
   ]
  },
  {
   "cell_type": "markdown",
   "metadata": {},
   "source": [
    "<ul>\n",
    "  <li>equal_var : scipy.stats.ttest_ind 함수에서 두 표본의 분산이 동일하다고 가정할지 여부를 지정</li>\n",
    "  <li>equal_var = True\n",
    "    <ul>\n",
    "      <li>가정 : 두 표뵨의 분산이 동일하다고 가정</li>\n",
    "      <li>두 표본이 동일한 분산을 가지는 경우에 사용, 이 경우에 통계적 검정력이 더 강함</li>\n",
    "    </ul>\n",
    "  </li>\n",
    "  <li>equal_var = False\n",
    "  <ul>\n",
    "    <li>가정 : 두 표뵨의 분산이 다를 수 있다고 가정</li>\n",
    "    <li>두 표본이 다른 분산을 가지는 경우에 사용, 분산이 다를 수 있는 경우에 더 신뢰할 수 있는 결과를 제공</li>\n",
    "  </ul>\n",
    "  </li>\n",
    "\n",
    "\n",
    "</ul>"
   ]
  },
  {
   "cell_type": "code",
   "execution_count": 27,
   "metadata": {},
   "outputs": [
    {
     "name": "stdout",
     "output_type": "stream",
     "text": [
      "Welch's t-test :  TtestResult(statistic=np.float64(-2.469198134722159), pvalue=np.float64(0.015450979789060345), df=np.float64(88.99167087963141))\n",
      "과외 이전과 이후의 수학 성적에 유의미한 차이가 있음\n"
     ]
    }
   ],
   "source": [
    "## 1-3. Welch's t-test\n",
    "# 등분산 가정을 따르지 않는 경우\n",
    "welch_t_test_result = stats.ttest_ind(before_study, after_study, equal_var=False) # 분산이 다른 경우가 많아서... equal_var = False를 사용하는 것이 더 안전한 선택\n",
    "print(\"Welch's t-test : \", welch_t_test_result)\n",
    "\n",
    "# p-value 값이 0.05보다 작으면 귀무가설(H0)을 기각하고 대립가설(H1)을 채택\n",
    "if welch_t_test_result.pvalue < 0.05 :\n",
    "  print(\"과외 이전과 이후의 수학 성적에 유의미한 차이가 있음\")\n",
    "else:\n",
    "  print(\"과외 이전과 이후의 수학 성적에 유의미한 차이가 없음\")"
   ]
  },
  {
   "cell_type": "markdown",
   "metadata": {},
   "source": [
    "##### 1-4. 예제\n"
   ]
  },
  {
   "cell_type": "code",
   "execution_count": 32,
   "metadata": {},
   "outputs": [],
   "source": [
    "# %pip install statsmodels"
   ]
  },
  {
   "cell_type": "code",
   "execution_count": 31,
   "metadata": {},
   "outputs": [
    {
     "name": "stderr",
     "output_type": "stream",
     "text": [
      "C:\\Users\\cho03\\AppData\\Local\\Temp\\ipykernel_13528\\167418237.py:5: MatplotlibDeprecationWarning: The 'labels' parameter of boxplot() has been renamed 'tick_labels' since Matplotlib 3.9; support for the old name will be dropped in 3.11.\n",
      "  plt.boxplot([sleep['extra'][sleep['group'] == 1], sleep['extra'][sleep['group'] == 2]], labels=['Group 1', 'Group 2'])\n"
     ]
    },
    {
     "data": {
      "image/png": "[encoded data removed]",
      "text/plain": [
       "<Figure size 640x480 with 1 Axes>"
      ]
     },
     "metadata": {},
     "output_type": "display_data"
    }
   ],
   "source": [
    "### 1-4. 예제\n",
    "from statsmodels.datasets import get_rdataset\n",
    "sleep = get_rdataset('sleep', 'datasets').data\n",
    "plt.figure()\n",
    "plt.boxplot([sleep['extra'][sleep['group'] == 1], sleep['extra'][sleep['group'] == 2]], labels=['Group 1', 'Group 2'])\n",
    "plt.title(\"Boxplot of Sleep Data\")\n",
    "plt.show()"
   ]
  },
  {
   "cell_type": "code",
   "execution_count": 33,
   "metadata": {},
   "outputs": [
    {
     "name": "stdout",
     "output_type": "stream",
     "text": [
      "Sleep data t-test :  TtestResult(statistic=np.float64(-1.8608134674868524), pvalue=np.float64(0.9604066428920309), df=np.float64(18.0))\n",
      "Group 1가 Group 2보다 평균이 유의미하게 더 크다고 할 수 없음\n"
     ]
    }
   ],
   "source": [
    "t_test_sleep = stats.ttest_ind(\n",
    "    sleep[\"extra\"][sleep[\"group\"] == 1],\n",
    "    sleep[\"extra\"][sleep[\"group\"] == 2],\n",
    "    alternative = 'greater'\n",
    ")\n",
    "\n",
    "# H1 : group1이 group2보다 큰가?\n",
    "# p-value가 0.05보다 작으면 yes!\n",
    "print(\"Sleep data t-test : \", t_test_sleep)\n",
    "\n",
    "# p-value 값이 0.05보다 작으면 귀무가설(H0)을 기각하고 대립가설(H1)을 채택\n",
    "if t_test_sleep.pvalue < 0.05 :\n",
    "  print(\"Group 1가 Group 2보다 평균이 유의미하게 더 크다고 할 수 있음\")\n",
    "else:\n",
    "  print(\"Group 1가 Group 2보다 평균이 유의미하게 더 크다고 할 수 없음\")"
   ]
  },
  {
   "cell_type": "markdown",
   "metadata": {},
   "source": [
    "#### 3개 이상의 그룹 비교"
   ]
  },
  {
   "cell_type": "markdown",
   "metadata": {},
   "source": [
    "##### 2-1. ANOVA\n"
   ]
  },
  {
   "cell_type": "code",
   "execution_count": null,
   "metadata": {},
   "outputs": [],
   "source": [
    "#### 2-1. ANOVA\n",
    "# 전국 신규 민간 아파트 분양가격 동향 데이터\n",
    "real = pd.read_csv(ppath + \"1.data/real estate.csv\", encoding = 'euc-kr')\n",
    "real['분양가격'] = pd.to_numeric(real['분양가격'], errors='coerce')\n",
    "real['지역명'] = real['지역명'].astype('category')\n",
    "real['연도'] = real['연도'].astype('category')\n",
    "real['월'] = real['월'].astype('category')\n",
    "\n",
    "# 결측값 제거\n",
    "real =real.dropna(subset = ['분양가격'])\n",
    "\n",
    "df = real\n",
    "df.head()"
   ]
  },
  {
   "cell_type": "code",
   "execution_count": null,
   "metadata": {},
   "outputs": [],
   "source": [
    "grouped = df.groupby('지역명')\n",
    "grouped_df = grouped['분양가격'].agg(['mean']) # real.groupby('지역명')['분양가격].mean()\n",
    "# grouped_df = grouped_df.reset_index() # index를 컬럼으로 바꾸고 싶다면!\n",
    "grouped_df"
   ]
  },
  {
   "cell_type": "code",
   "execution_count": null,
   "metadata": {},
   "outputs": [],
   "source": [
    "plt.figure()\n",
    "df.boxplot(column = '분양가격', by = '지역명')\n",
    "plt.title(\"Boxplot of 지역에 따른 분양가\")\n",
    "plt.show()"
   ]
  },
  {
   "cell_type": "markdown",
   "metadata": {},
   "source": [
    "##### ANOVA"
   ]
  },
  {
   "cell_type": "code",
   "execution_count": 35,
   "metadata": {},
   "outputs": [],
   "source": [
    "import statsmodels.api as sm\n",
    "from statsmodels.formula.api import ols"
   ]
  },
  {
   "cell_type": "code",
   "execution_count": null,
   "metadata": {},
   "outputs": [],
   "source": [
    "# ANOVA\n",
    "# H0 : 지역별 m^2당 분양가에 차이가 없다.\n",
    "# H1 : 지역별 m^2당 분양가에 차이가 있다.\n",
    "anova_model = ols(\"분양가격 ~ C(지역명)\", data=df).fit()  # y ~ x형태이며, C는 범주형 변수임을 나타냄!\n",
    "anova_results = sm.stats.anova_lm(anova_model, typ = 2) # 분산 계산 방식에 따라 1,2,3\n",
    "print(anova_results)\n",
    "\n",
    "# 해석\n",
    "# Pr(>F) 값이 0.05보다 작으므로 H0을 기가\n",
    "# 지역별 m^2당 분양가에 유의한 차이가 있다"
   ]
  },
  {
   "cell_type": "markdown",
   "metadata": {},
   "source": [
    "<ul> ANOVA 결과 해석\n",
    "  <li>C(지역명):<br>\n",
    "  df : 16.0 - 지역명 변수의 자유도(Degrees of Freedom). 17개의 지역이 있으며, 자유도는 n-1이므로 16<br>\n",
    "  sum_sq : 3.739884e+09 - 지역명 변수에 의해 설명되는 총 제곱합(Sum of Squares)<br>\n",
    "  mean_sq : 2.337427e+08 - 평균 제곱합(Mean Square). sum_sq를 df로 나눈 값<br>\n",
    "  F : 1448.532682 - F-통계량(F-statistic). 이는 \"지역명\" 변수가 분양가격에 미치는 영향의 크기, 높은 값은 큰 영향을 의미<br>\n",
    "  PR(>F): 0.0 - p-값(p-value). 지역명 변수가 분양 가격에 미치는 영향이 통계적으로 유의미한지를 나타냄\n",
    "  <ul> \n",
    "    <li>p-값이 0.0으로 매우 작음을 의미, 지명 변수가 분양가격에 유의미한 영향을 미침으 ㄹ알 수 있음</li>\n",
    "  </ul>\n",
    "  </li>\n",
    "  <li>Residual(잔차):<br>\n",
    "  df : 3256.0 - 잔차의 자유도. 이는 총 샘플 수에서 \"지역명\" 변수의 자유도를 뺀 값<br>\n",
    "  sum_sq : 5.254050e+08 - 잔차(residual)에 의해 설명되는 부분<br>\n",
    "  mean_sq : 1.613652e+05 - 평균 제곱합. sum_sq를 df로 나눈 값<br>\n",
    "  F : 잔차에 대한 F-통계량은 계산되지 않음<br>\n",
    "  PR(>F) : 잔차에 대한 p-값은 계산되지 않음\n",
    "  </li>\n",
    "</ul>"
   ]
  },
  {
   "cell_type": "code",
   "execution_count": 36,
   "metadata": {},
   "outputs": [
    {
     "ename": "NameError",
     "evalue": "name 'anova_model' is not defined",
     "output_type": "error",
     "traceback": [
      "\u001b[1;31m---------------------------------------------------------------------------\u001b[0m",
      "\u001b[1;31mNameError\u001b[0m                                 Traceback (most recent call last)",
      "Cell \u001b[1;32mIn[36], line 2\u001b[0m\n\u001b[0;32m      1\u001b[0m \u001b[38;5;66;03m# 정규성 가정 확인\u001b[39;00m\n\u001b[1;32m----> 2\u001b[0m shapiro_test \u001b[38;5;241m=\u001b[39m stats\u001b[38;5;241m.\u001b[39mshapiro(\u001b[43manova_model\u001b[49m\u001b[38;5;241m.\u001b[39mresid)\n\u001b[0;32m      3\u001b[0m \u001b[38;5;28mprint\u001b[39m(\u001b[38;5;124m\"\u001b[39m\u001b[38;5;124mShapiro-Wilk test for narmality : \u001b[39m\u001b[38;5;124m\"\u001b[39m, shapiro\u001b[38;5;241m-\u001b[39mtest)\n\u001b[0;32m      5\u001b[0m \u001b[38;5;66;03m# 해석\u001b[39;00m\n\u001b[0;32m      6\u001b[0m \u001b[38;5;66;03m# p-value가 0.05보다 작으면 정규성 가정을 만족하지 않음\u001b[39;00m\n",
      "\u001b[1;31mNameError\u001b[0m: name 'anova_model' is not defined"
     ]
    }
   ],
   "source": [
    "# 정규성 가정 확인\n",
    "shapiro_test = stats.shapiro(anova_model.resid)\n",
    "print(\"Shapiro-Wilk test for narmality : \", shapiro_test)\n",
    "\n",
    "# 해석\n",
    "# p-value가 0.05보다 작으면 정규성 가정을 만족하지 않음"
   ]
  },
  {
   "cell_type": "code",
   "execution_count": null,
   "metadata": {},
   "outputs": [],
   "source": [
    "# 참고 : 다른 정규성 판단 함수\n",
    "ad_test = stats.anderson(anova_model.resid)\n",
    "print(\"Anderson-Darling test for normality : \", ad_test)"
   ]
  },
  {
   "cell_type": "code",
   "execution_count": null,
   "metadata": {},
   "outputs": [],
   "source": [
    "# 등분산성 가정 확인\n",
    "# H0 : 지역별 데이터는 서로 분산이 같다\n",
    "# H1 : 지역별 데이터는 서로 분산이 다르다\n",
    "bartlett_test = stats.bartlett(*df['분양가격'][df['지역명'] == region] for region in df['지역명'].unique())\n",
    "# df는 데이터프레임에서 지역명 별로 분양가격 데이터를 추출\n",
    "# *는 리스트를 언패킹해서 각 요소를 개별 인수로 함수에 전달!\n",
    "\n",
    "print(\"Bartlett's test for equal variances : \", bartlett_test)\n",
    "\n",
    "# 해석\n",
    "# p-value가 0.05보다 작으면 등분산 가정을 만족하지 않음"
   ]
  },
  {
   "cell_type": "code",
   "execution_count": null,
   "metadata": {},
   "outputs": [],
   "source": [
    "# print(*df['분양가격'][df['지역명'] == region] for region in df['지역명'].unique())"
   ]
  },
  {
   "cell_type": "markdown",
   "metadata": {},
   "source": [
    "##### (심화1) Tukey HSD\n"
   ]
  },
  {
   "cell_type": "code",
   "execution_count": null,
   "metadata": {},
   "outputs": [],
   "source": [
    "from statsmodels.stats.multicomp import pairwise_tukeyhsd\n",
    "\n",
    "# 유의미한 차이가 있는 경우, 어떤 지역에 유의한 차이가 있는 것일까?\n",
    "tukey_result = pairwise_tukeyhsd(df['분양가격'], df['지역명'], alpha = 0.05) # alpha : 유의수준\n",
    "print(tukey_reusl) # group2 - group1임에 유의!"
   ]
  },
  {
   "cell_type": "code",
   "execution_count": null,
   "metadata": {},
   "outputs": [],
   "source": [
    "tukey_result.plot_simulaneous()\n",
    "plt.title(\"Tukey HSD Test 결과\")\n",
    "plt.show()"
   ]
  },
  {
   "cell_type": "code",
   "execution_count": null,
   "metadata": {},
   "outputs": [],
   "source": [
    "# 수동으로 시각화\n",
    "def plot_tukey_hsd(tukey_result):\n",
    "  groups = tukey_result.groupsunique\n",
    "  n_groups = len(groups)\n",
    "\n",
    "  fig, ax = plt.subplots(figsize=(12, n_groups))\n",
    "\n",
    "  for i, (group1, group2, meandiff, p_adj, lower, upper, reject ) in enumerate(tukey_result._result_table.data[1:]):\n",
    "    y = n_groups - i - 1\n",
    "    color = 'red' if reject else 'grey'\n",
    "    ax.plot([lower, upper], [y, y], color=color)\n",
    "    ax.plot(meandiff, y, 'o', color='black')\n",
    "    # 값 표시 원할 경우\n",
    "    # ax.test(lower, y, f`{lower:.2f}`, verticalalignment='center', horizontalalignment='right, fontsize=8)\n",
    "    # ax.test(upper, y, f`{lower:.2f}`, verticalalignment='center', horizontalalignment='left, fontsize=8)\n",
    "    # ax.test(meandiff, y, f`{lower:.2f}`, verticalalignment='center', horizontalalignment='right, fontsize=8, color='white',)\n",
    "\n",
    "    ax.test(upper, y, f`{group1} - {group2}`, verticalalignment='center',horizontalalignment='left', fontsize=8)\n",
    "  \n",
    "  ax.axvline(0, color='blue',linestyle='--')\n",
    "  \n",
    "  plt.title('Tukey HSD Test 결과')\n",
    "  plt.xlabel('Mean Difference')\n",
    "  plt.ylabel('Group Compairson')\n",
    "  plt.show()\n",
    "\n",
    "plot_tukey_hsd(tukey_result)"
   ]
  },
  {
   "cell_type": "markdown",
   "metadata": {},
   "source": [
    "##### (심화2) Two-way ANOVA\n"
   ]
  },
  {
   "cell_type": "code",
   "execution_count": 37,
   "metadata": {},
   "outputs": [
    {
     "ename": "NameError",
     "evalue": "name 'df' is not defined",
     "output_type": "error",
     "traceback": [
      "\u001b[1;31m---------------------------------------------------------------------------\u001b[0m",
      "\u001b[1;31mNameError\u001b[0m                                 Traceback (most recent call last)",
      "Cell \u001b[1;32mIn[37], line 4\u001b[0m\n\u001b[0;32m      1\u001b[0m \u001b[38;5;66;03m# two-way anova\u001b[39;00m\n\u001b[0;32m      2\u001b[0m \u001b[38;5;66;03m# 지역명, 연도를 동시에 고려\u001b[39;00m\n\u001b[0;32m      3\u001b[0m \u001b[38;5;66;03m# 지역명(17) * 연도(5) = 85개 각각을 개별 집단/처리(groups, treatments)로 간주하고 이들간에 평균을 비교\u001b[39;00m\n\u001b[1;32m----> 4\u001b[0m two_way_anova \u001b[38;5;241m=\u001b[39m ols(\u001b[38;5;124m'\u001b[39m\u001b[38;5;124m분양가격 ~ C(지역명) + C(연도)\u001b[39m\u001b[38;5;124m'\u001b[39m, data \u001b[38;5;241m=\u001b[39m \u001b[43mdf\u001b[49m)\u001b[38;5;241m.\u001b[39mfit()\n\u001b[0;32m      5\u001b[0m two_way_anova_results \u001b[38;5;241m=\u001b[39m sm\u001b[38;5;241m.\u001b[39mstats\u001b[38;5;241m.\u001b[39manova_lm(two_way_anova, typ \u001b[38;5;241m=\u001b[39m \u001b[38;5;241m2\u001b[39m)\n\u001b[0;32m      6\u001b[0m \u001b[38;5;28mprint\u001b[39m(\u001b[38;5;124m\"\u001b[39m\u001b[38;5;124mTwo-way ANOVA 결ㅈ과 : \u001b[39m\u001b[38;5;130;01m\\n\u001b[39;00m\u001b[38;5;124m\"\u001b[39m, two_way_anova_results)\n",
      "\u001b[1;31mNameError\u001b[0m: name 'df' is not defined"
     ]
    }
   ],
   "source": [
    "# two-way anova\n",
    "# 지역명, 연도를 동시에 고려\n",
    "# 지역명(17) * 연도(5) = 85개 각각을 개별 집단/처리(groups, treatments)로 간주하고 이들간에 평균을 비교\n",
    "two_way_anova = ols('분양가격 ~ C(지역명) + C(연도)', data = df).fit()\n",
    "two_way_anova_results = sm.stats.anova_lm(two_way_anova, typ = 2)\n",
    "print(\"Two-way ANOVA 결ㅈ과 : \\n\", two_way_anova_results)\n",
    "\n",
    "# 해석\n",
    "# Pr(>F) 값이 0.05보다 작으면 H0 기각\n",
    "# 년도별 평당 분양가에 유의한 차이가 있다\n",
    "# 지역별 평당 분양가에 유의한 차이가 있다"
   ]
  },
  {
   "cell_type": "markdown",
   "metadata": {},
   "source": [
    "##### 2-2. Kruskal-Wallis Rank sum test\n"
   ]
  },
  {
   "cell_type": "code",
   "execution_count": null,
   "metadata": {},
   "outputs": [],
   "source": [
    "# 2-2. Kruskal-Wallis Rank sum test\n",
    "# 정규성 X, 등분산성 O\n",
    "# H0 : 지역에 따른 분양가격의 차이가 없다\n",
    "# H1 : 지역에 따른 분양가겨의 차이가 있다\n",
    "kruskal_test = stats.kruskal(*df['분양가격'][df['지역명'] == region] for region in df['지역명'].unique())\n",
    "print(\"Kruskal-Wallis test : \", kruskal_test)\n",
    "\n",
    "# 해석\n",
    "# p-value가 0.05보다 작으면 지역에 따른 분양가격의 차이가 있음"
   ]
  },
  {
   "cell_type": "markdown",
   "metadata": {},
   "source": [
    "##### 2-3. Welch's ANOVA\n"
   ]
  },
  {
   "cell_type": "code",
   "execution_count": null,
   "metadata": {},
   "outputs": [],
   "source": [
    "# 2-3. Welch's ANOVA\n",
    "# 정규성 O, 등분산성 X\n",
    "# H0 : 지역에 따른 분양가격의 차이가 없다\n",
    "# H1 : 지역에 따른 분양가겨의 차이가 있다\n",
    "\n",
    "welch_anova = sm.stats.anova_lm(ols('분양가격 ~ C(지역명)', data=df).fit(), typ=2, robuse = 'hc3') # 분산이 다를 때의 ANOVA 수행\n",
    "print(\"Welch's ANOVA 결과 : \\n\", welch_anova)"
   ]
  },
  {
   "cell_type": "markdown",
   "metadata": {},
   "source": [
    "#### 3. Chisquared Test"
   ]
  },
  {
   "cell_type": "code",
   "execution_count": null,
   "metadata": {},
   "outputs": [],
   "source": [
    "# 3. Chisquared-test\n",
    "insurance_data = pd.read_csv(ppath + '1.data/insurance.csv')\n",
    "insurance_data"
   ]
  },
  {
   "cell_type": "code",
   "execution_count": null,
   "metadata": {},
   "outputs": [],
   "source": [
    "# 성별(범주형)과 흡연여부(범주형)에 관계가 있는가?\n",
    "# H0 : 성별과 흡연여부는 관계가 없다(독립이다)\n",
    "# H1 : 성별과 흡연여부는 관계가 있다(독립이 아니다)\n",
    "chi2_test = stats.chi2_contingency(pd.crosstab(insurance_data['sex'], insurance_data['smoker']))\n",
    "\n",
    "print(\"Chi-squared test : \", chi2_test)\n",
    "\n",
    "# 해석\n",
    "# p-value가 0.05보다 작으면성별과 흡연여부는 유의한 관계가 있음"
   ]
  },
  {
   "cell_type": "markdown",
   "metadata": {},
   "source": [
    "#### 심화(Cramer's V)\n",
    "- 유의한 관계가 있는 경우, 어느 정도의 관계가 있는 것일까?"
   ]
  },
  {
   "cell_type": "code",
   "execution_count": null,
   "metadata": {},
   "outputs": [],
   "source": [
    "# 심화\n",
    "# 유의한 관계가 있는 경우, 어느 정도의 관계가 있는 것일까?\n",
    "tbl = pd.crosstab(insurance_data['sex'], insurance_data['smoker'])\n",
    "print(tbl)"
   ]
  },
  {
   "cell_type": "code",
   "execution_count": null,
   "metadata": {},
   "outputs": [],
   "source": [
    "# Cramer's V 계산 함수\n",
    "def cramers_v(chi2, n, k, r):\n",
    "  return np.sqrt(chi2 / (n * (min(k-1, r-1))))\n",
    "\n",
    "# 총 관측값의 수\n",
    "n = tbl.sum().sum()\n",
    "\n",
    "# 그래프의 행 수와 열 수\n",
    "k, r = tbl.shape\n",
    "\n",
    "chi2_stat, p_sales_left, dof_sales_left, ex_sales_left = stats.chi2_contingency(tbl)\n",
    "\n",
    "# Cramer's V 계산\n",
    "cramersv = cramers_v(chi2_stat, n, k, r)\n",
    "print(\"Cramer's V : \", cramersv)\n",
    "\n",
    "## 해석\n",
    "# Cramer's V(0 ~ 1)가 0에 가까우므로 연관성의 강도는 크지 않음\n",
    "# 0~ : 연관성이 거의 없음\n",
    "# 0.1 : 약한 연관성\n",
    "# 0.3 : 중간 정도의 연관성\n",
    "# 0.5 이상 : 강한 연관성"
   ]
  },
  {
   "cell_type": "code",
   "execution_count": null,
   "metadata": {},
   "outputs": [],
   "source": [
    "# 참고\n",
    "import seaborn as sns\n",
    "sns.heatmap(chi2_test[3], annot = True, cmap = \"YIGnBu\")\n",
    "plt.title('Residuals')\n",
    "plt.show()\n",
    "\n",
    "## 해석\n",
    "# female의 경우 smoke_yes와는 negative 하는 경향\n",
    "# female의 경우 smoke_no와는 positive 하는 경향\n",
    "# male의 경우 smoke_yes와는 positive 하는 경향\n",
    "# male의 경우 smoke_no와는 negative 하는 경향"
   ]
  },
  {
   "cell_type": "markdown",
   "metadata": {},
   "source": [
    "### Project"
   ]
  },
  {
   "cell_type": "markdown",
   "metadata": {},
   "source": [
    "#### 데이터 로드"
   ]
  },
  {
   "cell_type": "markdown",
   "metadata": {},
   "source": [
    "#### ANOVA 수행"
   ]
  },
  {
   "cell_type": "markdown",
   "metadata": {},
   "source": [
    "##### 2-1. 퇴사여부(left)에 따른 만족도(satisfaction_level) 차이 확인"
   ]
  },
  {
   "cell_type": "code",
   "execution_count": null,
   "metadata": {},
   "outputs": [],
   "source": []
  },
  {
   "cell_type": "markdown",
   "metadata": {},
   "source": [
    "##### 2-2. 부서별(sales)에 따른 만족도(satisfaction_level) 차이 확인"
   ]
  },
  {
   "cell_type": "code",
   "execution_count": null,
   "metadata": {},
   "outputs": [],
   "source": []
  },
  {
   "cell_type": "markdown",
   "metadata": {},
   "source": [
    "#### Chi-Square Test 수행"
   ]
  },
  {
   "cell_type": "markdown",
   "metadata": {},
   "source": [
    "##### 3-1. 부서별(sales)과 퇴사여부(left) 관계 확인"
   ]
  },
  {
   "cell_type": "code",
   "execution_count": null,
   "metadata": {},
   "outputs": [],
   "source": []
  },
  {
   "cell_type": "markdown",
   "metadata": {},
   "source": [
    "##### 3-2. 연봉(salary)과 퇴사여부(left) 관계 확인"
   ]
  },
  {
   "cell_type": "code",
   "execution_count": null,
   "metadata": {},
   "outputs": [],
   "source": []
  },
  {
   "cell_type": "markdown",
   "metadata": {},
   "source": [
    "##### 3-3. 연봉(salary)과 퇴사여부(left) 관계의 강도 계산"
   ]
  },
  {
   "cell_type": "code",
   "execution_count": null,
   "metadata": {},
   "outputs": [],
   "source": []
  }
 ],
 "metadata": {
  "kernelspec": {
   "display_name": "metacode",
   "language": "python",
   "name": "python3"
  },
  "language_info": {
   "codemirror_mode": {
    "name": "ipython",
    "version": 3
   },
   "file_extension": ".py",
   "mimetype": "text/x-python",
   "name": "python",
   "nbconvert_exporter": "python",
   "pygments_lexer": "ipython3",
   "version": "3.12.6"
  }
 },
 "nbformat": 4,
 "nbformat_minor": 2
}
