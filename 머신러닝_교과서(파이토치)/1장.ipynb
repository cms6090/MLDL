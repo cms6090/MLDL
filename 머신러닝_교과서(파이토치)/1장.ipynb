{
 "cells": [
  {
   "cell_type": "markdown",
   "metadata": {},
   "source": [
    "#### 지도 학습 : 입력 데이터와 레이블 사이의 관계를 모델링\n",
    "- 레이블된 데이터\n",
    "- 직접 피드백\n",
    "- 출력 및 미래 예측\n",
    "<hr/>\n",
    "\n",
    "- 분류 : 개별 클레스 레이블이 있는 지도 학습\n",
    "    - 이진 분류\n",
    "    - 다중 분류\n",
    "- 회귀 : 연속적인 값을 출력"
   ]
  },
  {
   "cell_type": "markdown",
   "metadata": {},
   "source": [
    "#### 비지도 학습 \n",
    "- 군집 : 사전 정보 없이 쌓여 있는 데이터를 의미 있는 서브 그룹(클러스터)로 나눔\n",
    "- 차원 축소 : 잡음 데이터를 제거하기 위해 특성 전처리 단계에서 종종 적용"
   ]
  },
  {
   "cell_type": "markdown",
   "metadata": {},
   "source": [
    "#### 강화 학습 : 환경과 상호 작용하여 시스템 성능을 향상하는 것이 목적\n",
    "- 행동을 수행하고 피드백을 통해 얻은 전체 보상을 최대화하려는 일련의 행동을 학습\n",
    "- 체스같이 이기도록 설정"
   ]
  },
  {
   "cell_type": "markdown",
   "metadata": {},
   "source": [
    "![](./image//머신러닝%20로드맵.jpg)\n",
    "1. 전처리\n",
    "    - 최적의 성능을 내려면 선택된 특성이 같은 스케일을 가져야 함 <br/>-> 특성을 [0,1] 범위로 변환하거나 표준 정규 분포로 변환하는 경우가 많음\n",
    "    - 선택된 특성이 상관관계가 높아 어느 정도 중복된 정보를 가질 수 있음<br/>-> 차원 축소 기법을 사용해 특성을 저차원 부분 공간으로 압축<br/>=> 저장 공간 덜 필요, 학습 빠름, 모델의 예측 성능 ↑, \n",
    "\n",
    "2. 예측 모델 선택과 훈련\n",
    "    - 여러 모델을 비교하기 전에 성능을 측정할 지표를 결정 -> 분류에서는 정확도"
   ]
  },
  {
   "cell_type": "markdown",
   "metadata": {},
   "source": []
  }
 ],
 "metadata": {
  "kernelspec": {
   "display_name": ".venv",
   "language": "python",
   "name": "python3"
  },
  "language_info": {
   "codemirror_mode": {
    "name": "ipython",
    "version": 3
   },
   "file_extension": ".py",
   "mimetype": "text/x-python",
   "name": "python",
   "nbconvert_exporter": "python",
   "pygments_lexer": "ipython3",
   "version": "3.12.7"
  }
 },
 "nbformat": 4,
 "nbformat_minor": 2
}
