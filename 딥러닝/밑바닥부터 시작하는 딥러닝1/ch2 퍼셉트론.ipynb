{
 "cells": [
  {
   "cell_type": "markdown",
   "metadata": {},
   "source": [
    "### 2. 퍼셉트론\n",
    "\n",
    "<ul>\n",
    "<li>입출력을 갖춘 알고리즘, 입력을 주면 정해진 규칙에 따른 값을 출력</li>\n",
    "<li>\"가중치\"와 \"편향\"을 매개변수로 설정</li>\n",
    "<br>\n",
    "<li>XOR 게이트는 단층 퍼셉트론으로는 표현 불가 -> 2층 포셉트론 이용</li><br>\n",
    "<li>단층 퍼셉트론 : 직선형 영역만 표현</li>\n",
    "<li>다층 퍼셉트론 : 비선형 영역도 표현 가능</li>\n",
    "</ul>"
   ]
  },
  {
   "cell_type": "code",
   "execution_count": 1,
   "metadata": {},
   "outputs": [],
   "source": [
    "import numpy as np"
   ]
  },
  {
   "cell_type": "markdown",
   "metadata": {},
   "source": [
    "##### 2.1 AND 게이트 : 두 신호가 모두 1이면 1, 나머지는 0"
   ]
  },
  {
   "cell_type": "code",
   "execution_count": 2,
   "metadata": {},
   "outputs": [
    {
     "name": "stdout",
     "output_type": "stream",
     "text": [
      "(0, 0) -> 0\n",
      "(1, 0) -> 0\n",
      "(0, 1) -> 0\n",
      "(1, 1) -> 1\n"
     ]
    }
   ],
   "source": [
    "def AND(x1, x2):\n",
    "    x = np.array([x1, x2])\n",
    "    w = np.array([0.5, 0.5])  # 가중치\n",
    "    b = -0.7                  # 편향\n",
    "\n",
    "    tmp = np.sum(w*x) + b     # np.sum() : 배열 값들의 전체 합\n",
    "\n",
    "    if tmp <= 0:\n",
    "        return 0\n",
    "    else:\n",
    "        return 1\n",
    "    \n",
    "if __name__ == '__main__':   # 이 코드가 있는 파일이 import된 파일이 아니라 시작점일 때만 아래 코드 실행\n",
    "    for xs in [(0,0), (1,0), (0,1), (1,1)]:\n",
    "        y = AND(xs[0], xs[1])\n",
    "        print(str(xs) + \" -> \" + str(y))"
   ]
  },
  {
   "cell_type": "markdown",
   "metadata": {},
   "source": [
    "##### 2.2 NAND 게이트 : 두 신호가 모두 1이면 0, 나머지는 1"
   ]
  },
  {
   "cell_type": "code",
   "execution_count": 3,
   "metadata": {},
   "outputs": [
    {
     "name": "stdout",
     "output_type": "stream",
     "text": [
      "(0, 0) -> 1\n",
      "(1, 0) -> 1\n",
      "(0, 1) -> 1\n",
      "(1, 1) -> 0\n"
     ]
    }
   ],
   "source": [
    "def NAND(x1, x2):\n",
    "    x = np.array([x1, x2])\n",
    "    w = np.array([0.5, 0.5])  # 가중치\n",
    "    b = -0.7                  # 편향\n",
    "\n",
    "    tmp = np.sum(w*x) + b     # np.sum() : 배열 값들의 전체 합\n",
    "\n",
    "    if tmp <= 0:\n",
    "        return 1\n",
    "    else:\n",
    "        return 0\n",
    "    \n",
    "if __name__ == '__main__':   # 이 코드가 있는 파일이 import된 파일이 아니라 시작점일 때만 아래 코드 실행\n",
    "    for xs in [(0,0), (1,0), (0,1), (1,1)]:\n",
    "        y = NAND(xs[0], xs[1])\n",
    "        print(str(xs) + \" -> \" + str(y))"
   ]
  },
  {
   "cell_type": "markdown",
   "metadata": {},
   "source": [
    "##### 2.3 OR 게이트 : 두 신호 중 하나라도 1이면 1"
   ]
  },
  {
   "cell_type": "code",
   "execution_count": 4,
   "metadata": {},
   "outputs": [
    {
     "name": "stdout",
     "output_type": "stream",
     "text": [
      "(0, 0)  ->  0\n",
      "(0, 1)  ->  1\n",
      "(1, 0)  ->  1\n",
      "(1, 1)  ->  1\n"
     ]
    }
   ],
   "source": [
    "def OR(x1, x2):\n",
    "    x = np.array([x1, x2])\n",
    "    w = np.array([0.5, 0.5])\n",
    "    b = -0.2\n",
    "\n",
    "    tmp = np.sum(x * w) + b\n",
    "\n",
    "    if tmp <= 0:\n",
    "        return 0\n",
    "    else:\n",
    "        return 1\n",
    "    \n",
    "if __name__ == '__main__':\n",
    "    for xs in [(0,0), (0,1), (1,0), (1,1)]:\n",
    "        y = OR(xs[0], xs[1])\n",
    "        print(xs, \" -> \", y)"
   ]
  },
  {
   "cell_type": "markdown",
   "metadata": {},
   "source": [
    "##### 2.4 XOR 게이트 : 두 신호가 서로 달라야 1"
   ]
  },
  {
   "cell_type": "code",
   "execution_count": 5,
   "metadata": {},
   "outputs": [
    {
     "name": "stdout",
     "output_type": "stream",
     "text": [
      "(0, 0)  ->  0\n",
      "(0, 1)  ->  1\n",
      "(1, 0)  ->  1\n",
      "(1, 1)  ->  0\n"
     ]
    }
   ],
   "source": [
    "def XOR(x1, x2):\n",
    "    s1 = NAND(x1, x2)\n",
    "    s2 = OR(x1, x2)\n",
    "    y = AND(s1, s2)\n",
    "\n",
    "    return y\n",
    "    \n",
    "if __name__ == '__main__':\n",
    "    for xs in [(0,0), (0,1), (1,0), (1,1)]:\n",
    "        y = XOR(xs[0], xs[1])\n",
    "        print(xs, \" -> \", y)"
   ]
  }
 ],
 "metadata": {
  "kernelspec": {
   "display_name": "deeplearning",
   "language": "python",
   "name": "python3"
  },
  "language_info": {
   "codemirror_mode": {
    "name": "ipython",
    "version": 3
   },
   "file_extension": ".py",
   "mimetype": "text/x-python",
   "name": "python",
   "nbconvert_exporter": "python",
   "pygments_lexer": "ipython3",
   "version": "3.12.4"
  }
 },
 "nbformat": 4,
 "nbformat_minor": 2
}
